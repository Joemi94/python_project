{
 "cells": [
  {
   "cell_type": "markdown",
   "id": "f8e4cae5",
   "metadata": {},
   "source": [
    "# Email Slicer Program"
   ]
  },
  {
   "cell_type": "code",
   "execution_count": 31,
   "id": "7527e885",
   "metadata": {},
   "outputs": [],
   "source": [
    "import pandas as pd  #importing pandas library\n",
    "\n",
    "profile = dict()    # Dictionary Container for storing the slice email\n",
    "\n",
    "def autoEmailSlicer():\n",
    "    def slicer(email):\n",
    "        extract = email.split('@')\n",
    "        profile[extract[0]] = extract[1]\n",
    "        return profile \n",
    "\n",
    "    def dfCreator(dictVal):\n",
    "        table = pd.DataFrame() \n",
    "        table['User Name'] = dictVal.keys()\n",
    "        table['Domain Name'] = dictVal.values()\n",
    "        return table \n",
    "    \n",
    "    count = 0\n",
    "    while count <= 4:\n",
    "        email = input('Email: ')\n",
    "        userProfile = slicer(email)\n",
    "        df = dfCreator(userProfile)\n",
    "        count = count + 1\n",
    "    return df"
   ]
  },
  {
   "cell_type": "code",
   "execution_count": 32,
   "id": "2d6beffa",
   "metadata": {},
   "outputs": [
    {
     "name": "stdout",
     "output_type": "stream",
     "text": [
      "Email: joemitechnologieslimited@gmail.com\n",
      "Email: nobleucdigitalexperienceworld@gmail.com\n",
      "Email: fridayemeka32@yahoo.com\n",
      "Email: pradelai@yahoo.com\n",
      "Email: vividanlytics@.gmail.com\n"
     ]
    }
   ],
   "source": [
    "autoEmailSlicer() "
   ]
  },
  {
   "cell_type": "code",
   "execution_count": 33,
   "id": "965c23a5",
   "metadata": {},
   "outputs": [
    {
     "data": {
      "text/html": [
       "<div>\n",
       "<style scoped>\n",
       "    .dataframe tbody tr th:only-of-type {\n",
       "        vertical-align: middle;\n",
       "    }\n",
       "\n",
       "    .dataframe tbody tr th {\n",
       "        vertical-align: top;\n",
       "    }\n",
       "\n",
       "    .dataframe thead th {\n",
       "        text-align: right;\n",
       "    }\n",
       "</style>\n",
       "<table border=\"1\" class=\"dataframe\">\n",
       "  <thead>\n",
       "    <tr style=\"text-align: right;\">\n",
       "      <th></th>\n",
       "      <th>User Name</th>\n",
       "      <th>Domain Name</th>\n",
       "    </tr>\n",
       "  </thead>\n",
       "  <tbody>\n",
       "    <tr>\n",
       "      <th>0</th>\n",
       "      <td>fridayemeka32</td>\n",
       "      <td>yahoo.com</td>\n",
       "    </tr>\n",
       "    <tr>\n",
       "      <th>1</th>\n",
       "      <td>johnemekafriday</td>\n",
       "      <td>gmail.com</td>\n",
       "    </tr>\n",
       "    <tr>\n",
       "      <th>2</th>\n",
       "      <td>oogarjoseph</td>\n",
       "      <td>gmail.com</td>\n",
       "    </tr>\n",
       "    <tr>\n",
       "      <th>3</th>\n",
       "      <td>onahgrace</td>\n",
       "      <td>outlook.com</td>\n",
       "    </tr>\n",
       "    <tr>\n",
       "      <th>4</th>\n",
       "      <td>johnemekafriday36</td>\n",
       "      <td>gmail.com</td>\n",
       "    </tr>\n",
       "  </tbody>\n",
       "</table>\n",
       "</div>"
      ],
      "text/plain": [
       "           User Name  Domain Name\n",
       "0      fridayemeka32    yahoo.com\n",
       "1    johnemekafriday    gmail.com\n",
       "2        oogarjoseph    gmail.com\n",
       "3          onahgrace  outlook.com\n",
       "4  johnemekafriday36    gmail.com"
      ]
     },
     "execution_count": 33,
     "metadata": {},
     "output_type": "execute_result"
    }
   ],
   "source": [
    "df "
   ]
  },
  {
   "cell_type": "code",
   "execution_count": null,
   "id": "2aa107c4",
   "metadata": {},
   "outputs": [],
   "source": []
  }
 ],
 "metadata": {
  "kernelspec": {
   "display_name": "Python 3 (ipykernel)",
   "language": "python",
   "name": "python3"
  },
  "language_info": {
   "codemirror_mode": {
    "name": "ipython",
    "version": 3
   },
   "file_extension": ".py",
   "mimetype": "text/x-python",
   "name": "python",
   "nbconvert_exporter": "python",
   "pygments_lexer": "ipython3",
   "version": "3.9.13"
  }
 },
 "nbformat": 4,
 "nbformat_minor": 5
}
